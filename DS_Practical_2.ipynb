{
  "nbformat": 4,
  "nbformat_minor": 0,
  "metadata": {
    "kernelspec": {
      "display_name": "Python 3",
      "language": "python",
      "name": "python3"
    },
    "language_info": {
      "codemirror_mode": {
        "name": "ipython",
        "version": 3
      },
      "file_extension": ".py",
      "mimetype": "text/x-python",
      "name": "python",
      "nbconvert_exporter": "python",
      "pygments_lexer": "ipython3",
      "version": "3.7.6"
    },
    "colab": {
      "name": "DS Practical 2.ipynb",
      "provenance": []
    }
  },
  "cells": [
    {
      "cell_type": "code",
      "metadata": {
        "id": "F2CkI4iX3KtZ",
        "outputId": "c2c15ce6-629a-4c14-c4d7-5b8296e1dbe8",
        "colab": {
          "base_uri": "https://localhost:8080/",
          "height": 439
        }
      },
      "source": [
        "from sklearn.feature_selection import SelectKBest, chi2\n",
        "from sklearn.model_selection import train_test_split\n",
        "\n",
        "import pandas as pd\n",
        "df=pd.read_csv(\"EducationData.csv\")\n",
        "df"
      ],
      "execution_count": 35,
      "outputs": [
        {
          "output_type": "execute_result",
          "data": {
            "text/html": [
              "<div>\n",
              "<style scoped>\n",
              "    .dataframe tbody tr th:only-of-type {\n",
              "        vertical-align: middle;\n",
              "    }\n",
              "\n",
              "    .dataframe tbody tr th {\n",
              "        vertical-align: top;\n",
              "    }\n",
              "\n",
              "    .dataframe thead th {\n",
              "        text-align: right;\n",
              "    }\n",
              "</style>\n",
              "<table border=\"1\" class=\"dataframe\">\n",
              "  <thead>\n",
              "    <tr style=\"text-align: right;\">\n",
              "      <th></th>\n",
              "      <th>gender</th>\n",
              "      <th>PlaceofBirth</th>\n",
              "      <th>StageID</th>\n",
              "      <th>GradeID</th>\n",
              "      <th>Topic</th>\n",
              "      <th>Relation</th>\n",
              "      <th>raisedhands</th>\n",
              "      <th>VisITedResources</th>\n",
              "      <th>AnnouncementsView</th>\n",
              "      <th>Discussion</th>\n",
              "      <th>StudentAbsenceDays</th>\n",
              "      <th>ParentschoolSatisfaction</th>\n",
              "      <th>ParentAnsweringSurvey</th>\n",
              "    </tr>\n",
              "  </thead>\n",
              "  <tbody>\n",
              "    <tr>\n",
              "      <th>0</th>\n",
              "      <td>M</td>\n",
              "      <td>KuwaIT</td>\n",
              "      <td>lowerlevel</td>\n",
              "      <td>G-04</td>\n",
              "      <td>IT</td>\n",
              "      <td>Father</td>\n",
              "      <td>15</td>\n",
              "      <td>16</td>\n",
              "      <td>2</td>\n",
              "      <td>20</td>\n",
              "      <td>Under-7</td>\n",
              "      <td>Good</td>\n",
              "      <td>Yes</td>\n",
              "    </tr>\n",
              "    <tr>\n",
              "      <th>1</th>\n",
              "      <td>M</td>\n",
              "      <td>KuwaIT</td>\n",
              "      <td>lowerlevel</td>\n",
              "      <td>G-04</td>\n",
              "      <td>IT</td>\n",
              "      <td>Father</td>\n",
              "      <td>20</td>\n",
              "      <td>20</td>\n",
              "      <td>3</td>\n",
              "      <td>25</td>\n",
              "      <td>Under-7</td>\n",
              "      <td>Good</td>\n",
              "      <td>Yes</td>\n",
              "    </tr>\n",
              "    <tr>\n",
              "      <th>2</th>\n",
              "      <td>M</td>\n",
              "      <td>KuwaIT</td>\n",
              "      <td>lowerlevel</td>\n",
              "      <td>G-04</td>\n",
              "      <td>IT</td>\n",
              "      <td>Father</td>\n",
              "      <td>10</td>\n",
              "      <td>7</td>\n",
              "      <td>0</td>\n",
              "      <td>30</td>\n",
              "      <td>Above-7</td>\n",
              "      <td>Bad</td>\n",
              "      <td>No</td>\n",
              "    </tr>\n",
              "    <tr>\n",
              "      <th>3</th>\n",
              "      <td>M</td>\n",
              "      <td>KuwaIT</td>\n",
              "      <td>lowerlevel</td>\n",
              "      <td>G-04</td>\n",
              "      <td>IT</td>\n",
              "      <td>Father</td>\n",
              "      <td>30</td>\n",
              "      <td>25</td>\n",
              "      <td>5</td>\n",
              "      <td>35</td>\n",
              "      <td>Above-7</td>\n",
              "      <td>Bad</td>\n",
              "      <td>No</td>\n",
              "    </tr>\n",
              "    <tr>\n",
              "      <th>4</th>\n",
              "      <td>M</td>\n",
              "      <td>KuwaIT</td>\n",
              "      <td>lowerlevel</td>\n",
              "      <td>G-04</td>\n",
              "      <td>IT</td>\n",
              "      <td>Father</td>\n",
              "      <td>40</td>\n",
              "      <td>50</td>\n",
              "      <td>12</td>\n",
              "      <td>50</td>\n",
              "      <td>Above-7</td>\n",
              "      <td>Bad</td>\n",
              "      <td>No</td>\n",
              "    </tr>\n",
              "    <tr>\n",
              "      <th>...</th>\n",
              "      <td>...</td>\n",
              "      <td>...</td>\n",
              "      <td>...</td>\n",
              "      <td>...</td>\n",
              "      <td>...</td>\n",
              "      <td>...</td>\n",
              "      <td>...</td>\n",
              "      <td>...</td>\n",
              "      <td>...</td>\n",
              "      <td>...</td>\n",
              "      <td>...</td>\n",
              "      <td>...</td>\n",
              "      <td>...</td>\n",
              "    </tr>\n",
              "    <tr>\n",
              "      <th>475</th>\n",
              "      <td>F</td>\n",
              "      <td>Jordan</td>\n",
              "      <td>MiddleSchool</td>\n",
              "      <td>G-08</td>\n",
              "      <td>Chemistry</td>\n",
              "      <td>Father</td>\n",
              "      <td>5</td>\n",
              "      <td>4</td>\n",
              "      <td>5</td>\n",
              "      <td>8</td>\n",
              "      <td>Above-7</td>\n",
              "      <td>Bad</td>\n",
              "      <td>No</td>\n",
              "    </tr>\n",
              "    <tr>\n",
              "      <th>476</th>\n",
              "      <td>F</td>\n",
              "      <td>Jordan</td>\n",
              "      <td>MiddleSchool</td>\n",
              "      <td>G-08</td>\n",
              "      <td>Geology</td>\n",
              "      <td>Father</td>\n",
              "      <td>50</td>\n",
              "      <td>77</td>\n",
              "      <td>14</td>\n",
              "      <td>28</td>\n",
              "      <td>Under-7</td>\n",
              "      <td>Bad</td>\n",
              "      <td>No</td>\n",
              "    </tr>\n",
              "    <tr>\n",
              "      <th>477</th>\n",
              "      <td>F</td>\n",
              "      <td>Jordan</td>\n",
              "      <td>MiddleSchool</td>\n",
              "      <td>G-08</td>\n",
              "      <td>Geology</td>\n",
              "      <td>Father</td>\n",
              "      <td>55</td>\n",
              "      <td>74</td>\n",
              "      <td>25</td>\n",
              "      <td>29</td>\n",
              "      <td>Under-7</td>\n",
              "      <td>Bad</td>\n",
              "      <td>No</td>\n",
              "    </tr>\n",
              "    <tr>\n",
              "      <th>478</th>\n",
              "      <td>F</td>\n",
              "      <td>Jordan</td>\n",
              "      <td>MiddleSchool</td>\n",
              "      <td>G-08</td>\n",
              "      <td>History</td>\n",
              "      <td>Father</td>\n",
              "      <td>30</td>\n",
              "      <td>17</td>\n",
              "      <td>14</td>\n",
              "      <td>57</td>\n",
              "      <td>Above-7</td>\n",
              "      <td>Bad</td>\n",
              "      <td>No</td>\n",
              "    </tr>\n",
              "    <tr>\n",
              "      <th>479</th>\n",
              "      <td>F</td>\n",
              "      <td>Jordan</td>\n",
              "      <td>MiddleSchool</td>\n",
              "      <td>G-08</td>\n",
              "      <td>History</td>\n",
              "      <td>Father</td>\n",
              "      <td>35</td>\n",
              "      <td>14</td>\n",
              "      <td>23</td>\n",
              "      <td>62</td>\n",
              "      <td>Above-7</td>\n",
              "      <td>Bad</td>\n",
              "      <td>No</td>\n",
              "    </tr>\n",
              "  </tbody>\n",
              "</table>\n",
              "<p>480 rows × 13 columns</p>\n",
              "</div>"
            ],
            "text/plain": [
              "    gender PlaceofBirth  ... ParentschoolSatisfaction ParentAnsweringSurvey\n",
              "0        M       KuwaIT  ...                     Good                   Yes\n",
              "1        M       KuwaIT  ...                     Good                   Yes\n",
              "2        M       KuwaIT  ...                      Bad                    No\n",
              "3        M       KuwaIT  ...                      Bad                    No\n",
              "4        M       KuwaIT  ...                      Bad                    No\n",
              "..     ...          ...  ...                      ...                   ...\n",
              "475      F       Jordan  ...                      Bad                    No\n",
              "476      F       Jordan  ...                      Bad                    No\n",
              "477      F       Jordan  ...                      Bad                    No\n",
              "478      F       Jordan  ...                      Bad                    No\n",
              "479      F       Jordan  ...                      Bad                    No\n",
              "\n",
              "[480 rows x 13 columns]"
            ]
          },
          "metadata": {
            "tags": []
          },
          "execution_count": 35
        }
      ]
    },
    {
      "cell_type": "code",
      "metadata": {
        "id": "s2io0LDNnqs6"
      },
      "source": [
        "x = pd.read_csv(\"EducationData.csv\",usecols=['raisedhands','VisITedResources','AnnouncementsView','Discussion'])\n",
        "y = pd.DataFrame (df['ParentAnsweringSurvey'], columns = ['ParentAnsweringSurvey'])"
      ],
      "execution_count": 37,
      "outputs": []
    },
    {
      "cell_type": "code",
      "metadata": {
        "id": "WaSEIcUV3Kts"
      },
      "source": [
        "#Univariate Feature Selection\n",
        "x_train, x_test, y_train, y_test = train_test_split(x, y, test_size=0.3, random_state=42)"
      ],
      "execution_count": 38,
      "outputs": []
    },
    {
      "cell_type": "code",
      "metadata": {
        "id": "obphbsJm3Kty",
        "outputId": "00d5f7d5-6ef6-40d2-c913-e1b9678d5b51",
        "colab": {
          "base_uri": "https://localhost:8080/",
          "height": 34
        }
      },
      "source": [
        "features= SelectKBest(chi2, k=3).fit(x_train, y_train)\n",
        "booles=features.get_support()\n",
        "booles"
      ],
      "execution_count": 40,
      "outputs": [
        {
          "output_type": "execute_result",
          "data": {
            "text/plain": [
              "array([ True,  True,  True, False])"
            ]
          },
          "metadata": {
            "tags": []
          },
          "execution_count": 40
        }
      ]
    },
    {
      "cell_type": "code",
      "metadata": {
        "id": "e4_nfpSR3Kt3",
        "outputId": "e74fc3e1-6ea1-40cf-b7c6-c04a9f99ea95",
        "colab": {
          "base_uri": "https://localhost:8080/",
          "height": 34
        }
      },
      "source": [
        "names=[]\n",
        "for b,f in zip(booles,x_train.columns):\n",
        "    if b:\n",
        "     names.append(f)\n",
        "print('The best features are:{}'.format(names))"
      ],
      "execution_count": 41,
      "outputs": [
        {
          "output_type": "stream",
          "text": [
            "The best features are:['raisedhands', 'VisITedResources', 'AnnouncementsView']\n"
          ],
          "name": "stdout"
        }
      ]
    },
    {
      "cell_type": "code",
      "metadata": {
        "id": "O4mg_VOo3KuE",
        "outputId": "87064cce-5296-4fb7-e44a-aec704c48f1d",
        "colab": {
          "base_uri": "https://localhost:8080/",
          "height": 173
        }
      },
      "source": [
        "# Correlation\n",
        "c = df.corr()\n",
        "c"
      ],
      "execution_count": 42,
      "outputs": [
        {
          "output_type": "execute_result",
          "data": {
            "text/html": [
              "<div>\n",
              "<style scoped>\n",
              "    .dataframe tbody tr th:only-of-type {\n",
              "        vertical-align: middle;\n",
              "    }\n",
              "\n",
              "    .dataframe tbody tr th {\n",
              "        vertical-align: top;\n",
              "    }\n",
              "\n",
              "    .dataframe thead th {\n",
              "        text-align: right;\n",
              "    }\n",
              "</style>\n",
              "<table border=\"1\" class=\"dataframe\">\n",
              "  <thead>\n",
              "    <tr style=\"text-align: right;\">\n",
              "      <th></th>\n",
              "      <th>raisedhands</th>\n",
              "      <th>VisITedResources</th>\n",
              "      <th>AnnouncementsView</th>\n",
              "      <th>Discussion</th>\n",
              "    </tr>\n",
              "  </thead>\n",
              "  <tbody>\n",
              "    <tr>\n",
              "      <th>raisedhands</th>\n",
              "      <td>1.000000</td>\n",
              "      <td>0.691572</td>\n",
              "      <td>0.643918</td>\n",
              "      <td>0.339386</td>\n",
              "    </tr>\n",
              "    <tr>\n",
              "      <th>VisITedResources</th>\n",
              "      <td>0.691572</td>\n",
              "      <td>1.000000</td>\n",
              "      <td>0.594500</td>\n",
              "      <td>0.243292</td>\n",
              "    </tr>\n",
              "    <tr>\n",
              "      <th>AnnouncementsView</th>\n",
              "      <td>0.643918</td>\n",
              "      <td>0.594500</td>\n",
              "      <td>1.000000</td>\n",
              "      <td>0.417290</td>\n",
              "    </tr>\n",
              "    <tr>\n",
              "      <th>Discussion</th>\n",
              "      <td>0.339386</td>\n",
              "      <td>0.243292</td>\n",
              "      <td>0.417290</td>\n",
              "      <td>1.000000</td>\n",
              "    </tr>\n",
              "  </tbody>\n",
              "</table>\n",
              "</div>"
            ],
            "text/plain": [
              "                   raisedhands  VisITedResources  AnnouncementsView  Discussion\n",
              "raisedhands           1.000000          0.691572           0.643918    0.339386\n",
              "VisITedResources      0.691572          1.000000           0.594500    0.243292\n",
              "AnnouncementsView     0.643918          0.594500           1.000000    0.417290\n",
              "Discussion            0.339386          0.243292           0.417290    1.000000"
            ]
          },
          "metadata": {
            "tags": []
          },
          "execution_count": 42
        }
      ]
    },
    {
      "cell_type": "code",
      "metadata": {
        "id": "g9fx67V23KuJ",
        "outputId": "583543a2-2782-46db-def5-73bf445b44c3",
        "colab": {
          "base_uri": "https://localhost:8080/",
          "height": 88
        }
      },
      "source": [
        "#Recursive feature elimination\n",
        "from sklearn.feature_selection import RFE\n",
        "\n",
        "sel = RFE(est, n_features_to_select=2, step=1)\n",
        "sel = sel.fit(x_train, y_train)\n",
        "booles = sel.get_support()\n",
        "names = [] \n",
        "for b, f in zip(booles, x_train.columns):\n",
        "     if b:\n",
        "        names.append(f)\n",
        "names "
      ],
      "execution_count": 48,
      "outputs": [
        {
          "output_type": "stream",
          "text": [
            "/usr/local/lib/python3.6/dist-packages/sklearn/utils/validation.py:760: DataConversionWarning: A column-vector y was passed when a 1d array was expected. Please change the shape of y to (n_samples, ), for example using ravel().\n",
            "  y = column_or_1d(y, warn=True)\n"
          ],
          "name": "stderr"
        },
        {
          "output_type": "execute_result",
          "data": {
            "text/plain": [
              "['VisITedResources', 'AnnouncementsView']"
            ]
          },
          "metadata": {
            "tags": []
          },
          "execution_count": 48
        }
      ]
    },
    {
      "cell_type": "code",
      "metadata": {
        "id": "_DqMk5yU3KuR",
        "outputId": "6b385529-78ac-4e1e-f2dd-95526d75c239",
        "colab": {
          "base_uri": "https://localhost:8080/",
          "height": 419
        }
      },
      "source": [
        "#Principal Component Analysis (PCA)\n",
        "df=pd.read_csv(\"EducationData.csv\",usecols=['raisedhands','VisITedResources','AnnouncementsView','Discussion'])\n",
        "\n",
        "df"
      ],
      "execution_count": 50,
      "outputs": [
        {
          "output_type": "execute_result",
          "data": {
            "text/html": [
              "<div>\n",
              "<style scoped>\n",
              "    .dataframe tbody tr th:only-of-type {\n",
              "        vertical-align: middle;\n",
              "    }\n",
              "\n",
              "    .dataframe tbody tr th {\n",
              "        vertical-align: top;\n",
              "    }\n",
              "\n",
              "    .dataframe thead th {\n",
              "        text-align: right;\n",
              "    }\n",
              "</style>\n",
              "<table border=\"1\" class=\"dataframe\">\n",
              "  <thead>\n",
              "    <tr style=\"text-align: right;\">\n",
              "      <th></th>\n",
              "      <th>raisedhands</th>\n",
              "      <th>VisITedResources</th>\n",
              "      <th>AnnouncementsView</th>\n",
              "      <th>Discussion</th>\n",
              "    </tr>\n",
              "  </thead>\n",
              "  <tbody>\n",
              "    <tr>\n",
              "      <th>0</th>\n",
              "      <td>15</td>\n",
              "      <td>16</td>\n",
              "      <td>2</td>\n",
              "      <td>20</td>\n",
              "    </tr>\n",
              "    <tr>\n",
              "      <th>1</th>\n",
              "      <td>20</td>\n",
              "      <td>20</td>\n",
              "      <td>3</td>\n",
              "      <td>25</td>\n",
              "    </tr>\n",
              "    <tr>\n",
              "      <th>2</th>\n",
              "      <td>10</td>\n",
              "      <td>7</td>\n",
              "      <td>0</td>\n",
              "      <td>30</td>\n",
              "    </tr>\n",
              "    <tr>\n",
              "      <th>3</th>\n",
              "      <td>30</td>\n",
              "      <td>25</td>\n",
              "      <td>5</td>\n",
              "      <td>35</td>\n",
              "    </tr>\n",
              "    <tr>\n",
              "      <th>4</th>\n",
              "      <td>40</td>\n",
              "      <td>50</td>\n",
              "      <td>12</td>\n",
              "      <td>50</td>\n",
              "    </tr>\n",
              "    <tr>\n",
              "      <th>...</th>\n",
              "      <td>...</td>\n",
              "      <td>...</td>\n",
              "      <td>...</td>\n",
              "      <td>...</td>\n",
              "    </tr>\n",
              "    <tr>\n",
              "      <th>475</th>\n",
              "      <td>5</td>\n",
              "      <td>4</td>\n",
              "      <td>5</td>\n",
              "      <td>8</td>\n",
              "    </tr>\n",
              "    <tr>\n",
              "      <th>476</th>\n",
              "      <td>50</td>\n",
              "      <td>77</td>\n",
              "      <td>14</td>\n",
              "      <td>28</td>\n",
              "    </tr>\n",
              "    <tr>\n",
              "      <th>477</th>\n",
              "      <td>55</td>\n",
              "      <td>74</td>\n",
              "      <td>25</td>\n",
              "      <td>29</td>\n",
              "    </tr>\n",
              "    <tr>\n",
              "      <th>478</th>\n",
              "      <td>30</td>\n",
              "      <td>17</td>\n",
              "      <td>14</td>\n",
              "      <td>57</td>\n",
              "    </tr>\n",
              "    <tr>\n",
              "      <th>479</th>\n",
              "      <td>35</td>\n",
              "      <td>14</td>\n",
              "      <td>23</td>\n",
              "      <td>62</td>\n",
              "    </tr>\n",
              "  </tbody>\n",
              "</table>\n",
              "<p>480 rows × 4 columns</p>\n",
              "</div>"
            ],
            "text/plain": [
              "     raisedhands  VisITedResources  AnnouncementsView  Discussion\n",
              "0             15                16                  2          20\n",
              "1             20                20                  3          25\n",
              "2             10                 7                  0          30\n",
              "3             30                25                  5          35\n",
              "4             40                50                 12          50\n",
              "..           ...               ...                ...         ...\n",
              "475            5                 4                  5           8\n",
              "476           50                77                 14          28\n",
              "477           55                74                 25          29\n",
              "478           30                17                 14          57\n",
              "479           35                14                 23          62\n",
              "\n",
              "[480 rows x 4 columns]"
            ]
          },
          "metadata": {
            "tags": []
          },
          "execution_count": 50
        }
      ]
    },
    {
      "cell_type": "code",
      "metadata": {
        "id": "-23UNrl63KuV",
        "outputId": "2ca7d76f-6f76-4927-bcae-0562be019c79",
        "colab": {
          "base_uri": "https://localhost:8080/",
          "height": 419
        }
      },
      "source": [
        "from sklearn.decomposition import PCA\n",
        "pca = PCA(n_components=2)\n",
        "pc = pca.fit_transform(df)\n",
        "pcdf = pd.DataFrame(data = pc,columns = ['principal component 1', 'principal component 2'])\n",
        "pcdf"
      ],
      "execution_count": 52,
      "outputs": [
        {
          "output_type": "execute_result",
          "data": {
            "text/html": [
              "<div>\n",
              "<style scoped>\n",
              "    .dataframe tbody tr th:only-of-type {\n",
              "        vertical-align: middle;\n",
              "    }\n",
              "\n",
              "    .dataframe tbody tr th {\n",
              "        vertical-align: top;\n",
              "    }\n",
              "\n",
              "    .dataframe thead th {\n",
              "        text-align: right;\n",
              "    }\n",
              "</style>\n",
              "<table border=\"1\" class=\"dataframe\">\n",
              "  <thead>\n",
              "    <tr style=\"text-align: right;\">\n",
              "      <th></th>\n",
              "      <th>principal component 1</th>\n",
              "      <th>principal component 2</th>\n",
              "    </tr>\n",
              "  </thead>\n",
              "  <tbody>\n",
              "    <tr>\n",
              "      <th>0</th>\n",
              "      <td>-65.278268</td>\n",
              "      <td>-5.435111</td>\n",
              "    </tr>\n",
              "    <tr>\n",
              "      <th>1</th>\n",
              "      <td>-58.028773</td>\n",
              "      <td>-3.097619</td>\n",
              "    </tr>\n",
              "    <tr>\n",
              "      <th>2</th>\n",
              "      <td>-71.601161</td>\n",
              "      <td>7.579000</td>\n",
              "    </tr>\n",
              "    <tr>\n",
              "      <th>3</th>\n",
              "      <td>-45.357148</td>\n",
              "      <td>2.806438</td>\n",
              "    </tr>\n",
              "    <tr>\n",
              "      <th>4</th>\n",
              "      <td>-16.731435</td>\n",
              "      <td>5.611755</td>\n",
              "    </tr>\n",
              "    <tr>\n",
              "      <th>...</th>\n",
              "      <td>...</td>\n",
              "      <td>...</td>\n",
              "    </tr>\n",
              "    <tr>\n",
              "      <th>475</th>\n",
              "      <td>-80.509951</td>\n",
              "      <td>-9.642204</td>\n",
              "    </tr>\n",
              "    <tr>\n",
              "      <th>476</th>\n",
              "      <td>-0.112217</td>\n",
              "      <td>-26.141713</td>\n",
              "    </tr>\n",
              "    <tr>\n",
              "      <th>477</th>\n",
              "      <td>6.281013</td>\n",
              "      <td>-23.278131</td>\n",
              "    </tr>\n",
              "    <tr>\n",
              "      <th>478</th>\n",
              "      <td>-39.600826</td>\n",
              "      <td>26.891856</td>\n",
              "    </tr>\n",
              "    <tr>\n",
              "      <th>479</th>\n",
              "      <td>-32.943804</td>\n",
              "      <td>33.088220</td>\n",
              "    </tr>\n",
              "  </tbody>\n",
              "</table>\n",
              "<p>480 rows × 2 columns</p>\n",
              "</div>"
            ],
            "text/plain": [
              "     principal component 1  principal component 2\n",
              "0               -65.278268              -5.435111\n",
              "1               -58.028773              -3.097619\n",
              "2               -71.601161               7.579000\n",
              "3               -45.357148               2.806438\n",
              "4               -16.731435               5.611755\n",
              "..                     ...                    ...\n",
              "475             -80.509951              -9.642204\n",
              "476              -0.112217             -26.141713\n",
              "477               6.281013             -23.278131\n",
              "478             -39.600826              26.891856\n",
              "479             -32.943804              33.088220\n",
              "\n",
              "[480 rows x 2 columns]"
            ]
          },
          "metadata": {
            "tags": []
          },
          "execution_count": 52
        }
      ]
    },
    {
      "cell_type": "code",
      "metadata": {
        "id": "YMcWHwd-3Kug",
        "outputId": "a509e43a-ef9f-4d86-ddd4-0a67ea96f581",
        "colab": {
          "base_uri": "https://localhost:8080/",
          "height": 297
        }
      },
      "source": [
        "x_train.describe()"
      ],
      "execution_count": 57,
      "outputs": [
        {
          "output_type": "execute_result",
          "data": {
            "text/html": [
              "<div>\n",
              "<style scoped>\n",
              "    .dataframe tbody tr th:only-of-type {\n",
              "        vertical-align: middle;\n",
              "    }\n",
              "\n",
              "    .dataframe tbody tr th {\n",
              "        vertical-align: top;\n",
              "    }\n",
              "\n",
              "    .dataframe thead th {\n",
              "        text-align: right;\n",
              "    }\n",
              "</style>\n",
              "<table border=\"1\" class=\"dataframe\">\n",
              "  <thead>\n",
              "    <tr style=\"text-align: right;\">\n",
              "      <th></th>\n",
              "      <th>raisedhands</th>\n",
              "      <th>VisITedResources</th>\n",
              "      <th>AnnouncementsView</th>\n",
              "      <th>Discussion</th>\n",
              "    </tr>\n",
              "  </thead>\n",
              "  <tbody>\n",
              "    <tr>\n",
              "      <th>count</th>\n",
              "      <td>336.000000</td>\n",
              "      <td>336.000000</td>\n",
              "      <td>336.000000</td>\n",
              "      <td>336.00000</td>\n",
              "    </tr>\n",
              "    <tr>\n",
              "      <th>mean</th>\n",
              "      <td>48.247024</td>\n",
              "      <td>56.985119</td>\n",
              "      <td>39.869048</td>\n",
              "      <td>44.35119</td>\n",
              "    </tr>\n",
              "    <tr>\n",
              "      <th>std</th>\n",
              "      <td>31.007871</td>\n",
              "      <td>32.649789</td>\n",
              "      <td>27.495793</td>\n",
              "      <td>27.20780</td>\n",
              "    </tr>\n",
              "    <tr>\n",
              "      <th>min</th>\n",
              "      <td>0.000000</td>\n",
              "      <td>0.000000</td>\n",
              "      <td>0.000000</td>\n",
              "      <td>2.00000</td>\n",
              "    </tr>\n",
              "    <tr>\n",
              "      <th>25%</th>\n",
              "      <td>16.500000</td>\n",
              "      <td>20.750000</td>\n",
              "      <td>15.000000</td>\n",
              "      <td>21.00000</td>\n",
              "    </tr>\n",
              "    <tr>\n",
              "      <th>50%</th>\n",
              "      <td>50.000000</td>\n",
              "      <td>70.000000</td>\n",
              "      <td>38.000000</td>\n",
              "      <td>40.00000</td>\n",
              "    </tr>\n",
              "    <tr>\n",
              "      <th>75%</th>\n",
              "      <td>77.250000</td>\n",
              "      <td>85.250000</td>\n",
              "      <td>62.000000</td>\n",
              "      <td>70.00000</td>\n",
              "    </tr>\n",
              "    <tr>\n",
              "      <th>max</th>\n",
              "      <td>100.000000</td>\n",
              "      <td>99.000000</td>\n",
              "      <td>98.000000</td>\n",
              "      <td>98.00000</td>\n",
              "    </tr>\n",
              "  </tbody>\n",
              "</table>\n",
              "</div>"
            ],
            "text/plain": [
              "       raisedhands  VisITedResources  AnnouncementsView  Discussion\n",
              "count   336.000000        336.000000         336.000000   336.00000\n",
              "mean     48.247024         56.985119          39.869048    44.35119\n",
              "std      31.007871         32.649789          27.495793    27.20780\n",
              "min       0.000000          0.000000           0.000000     2.00000\n",
              "25%      16.500000         20.750000          15.000000    21.00000\n",
              "50%      50.000000         70.000000          38.000000    40.00000\n",
              "75%      77.250000         85.250000          62.000000    70.00000\n",
              "max     100.000000         99.000000          98.000000    98.00000"
            ]
          },
          "metadata": {
            "tags": []
          },
          "execution_count": 57
        }
      ]
    },
    {
      "cell_type": "code",
      "metadata": {
        "id": "4WImJ_513Kum",
        "outputId": "132e389c-7203-4584-a4d5-b12fc7c6012b",
        "colab": {
          "base_uri": "https://localhost:8080/",
          "height": 85
        }
      },
      "source": [
        "#VarianceThreshold\n",
        "from sklearn.feature_selection import VarianceThreshold\n",
        "selector = VarianceThreshold()\n",
        "x=[[100,300,500,600,700,1000],[100,300,500,600,700,1000],[100,300,500,200,900,1000],[100,300,500,600,700,1000]]\n",
        "final=selector.fit_transform(x)\n",
        "final"
      ],
      "execution_count": 58,
      "outputs": [
        {
          "output_type": "execute_result",
          "data": {
            "text/plain": [
              "array([[600, 700],\n",
              "       [600, 700],\n",
              "       [200, 900],\n",
              "       [600, 700]])"
            ]
          },
          "metadata": {
            "tags": []
          },
          "execution_count": 58
        }
      ]
    },
    {
      "cell_type": "code",
      "metadata": {
        "id": "tavdAMw63Kuq"
      },
      "source": [
        ""
      ],
      "execution_count": null,
      "outputs": []
    }
  ]
}